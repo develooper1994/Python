{
 "cells": [
  {
   "cell_type": "code",
   "execution_count": 2,
   "metadata": {},
   "outputs": [
    {
     "data": {
      "text/plain": [
       "['.ipynb_checkpoints', 'smallgray.png', 'Untitled.ipynb']"
      ]
     },
     "execution_count": 2,
     "metadata": {},
     "output_type": "execute_result"
    }
   ],
   "source": [
    "import os\n",
    "os.listdir()"
   ]
  },
  {
   "cell_type": "code",
   "execution_count": 18,
   "metadata": {},
   "outputs": [
    {
     "data": {
      "text/plain": [
       "list"
      ]
     },
     "execution_count": 18,
     "metadata": {},
     "output_type": "execute_result"
    }
   ],
   "source": [
    "ar=[[5, 9, 32496, 6, 3251,65 ,54],[],[]]\n",
    "type(ar)"
   ]
  },
  {
   "cell_type": "code",
   "execution_count": 56,
   "metadata": {
    "collapsed": true
   },
   "outputs": [],
   "source": [
    "import numpy as np\n",
    "n=np.arange(27)"
   ]
  },
  {
   "cell_type": "code",
   "execution_count": 27,
   "metadata": {},
   "outputs": [
    {
     "name": "stdout",
     "output_type": "stream",
     "text": [
      "n.reshape(3,9):  [[ 0  1  2  3  4  5  6  7  8]\n",
      " [ 9 10 11 12 13 14 15 16 17]\n",
      " [18 19 20 21 22 23 24 25 26]]\n"
     ]
    }
   ],
   "source": [
    "print(\"n.reshape(3,9): \",n.reshape(3,9))"
   ]
  },
  {
   "cell_type": "code",
   "execution_count": 25,
   "metadata": {},
   "outputs": [
    {
     "name": "stdout",
     "output_type": "stream",
     "text": [
      "shape:  (27,)\n",
      "size:  27\n"
     ]
    }
   ],
   "source": [
    "print(\"shape: \",n.shape)\n",
    "print(\"size: \",n.size)"
   ]
  },
  {
   "cell_type": "code",
   "execution_count": 22,
   "metadata": {},
   "outputs": [
    {
     "name": "stdout",
     "output_type": "stream",
     "text": [
      "<class 'numpy.ndarray'>\n"
     ]
    }
   ],
   "source": [
    "m=np.asarray( ar )\n",
    "print(type(m))"
   ]
  },
  {
   "cell_type": "code",
   "execution_count": null,
   "metadata": {
    "collapsed": true
   },
   "outputs": [],
   "source": []
  },
  {
   "cell_type": "code",
   "execution_count": 30,
   "metadata": {},
   "outputs": [
    {
     "data": {
      "text/plain": [
       "['.ipynb_checkpoints', 'smallgray.png', 'Untitled.ipynb']"
      ]
     },
     "execution_count": 30,
     "metadata": {},
     "output_type": "execute_result"
    }
   ],
   "source": [
    "os.listdir()"
   ]
  },
  {
   "cell_type": "code",
   "execution_count": 29,
   "metadata": {},
   "outputs": [],
   "source": [
    "import cv2"
   ]
  },
  {
   "cell_type": "code",
   "execution_count": 38,
   "metadata": {},
   "outputs": [
    {
     "name": "stdout",
     "output_type": "stream",
     "text": [
      "[[187 158 104 121 143]\n",
      " [198 125 255 255 147]\n",
      " [209 134 255  97 182]]\n"
     ]
    },
    {
     "data": {
      "text/plain": [
       "True"
      ]
     },
     "execution_count": 38,
     "metadata": {},
     "output_type": "execute_result"
    }
   ],
   "source": [
    "# numpy dizisi yazdıracaktır. resim tipi her zaman \"uint8\" dir.\n",
    "img_gray=cv2.imread(\"smallgray.png\",0)\n",
    "print(img_gray)\n",
    "cv2.imwrite(\"new_smallgray.png\",img_gray)"
   ]
  },
  {
   "cell_type": "code",
   "execution_count": 45,
   "metadata": {},
   "outputs": [
    {
     "name": "stdout",
     "output_type": "stream",
     "text": [
      "182\n",
      "[[187 158 104 121 143]\n",
      " [198 125 255 255 147]]\n",
      "[[104 121]\n",
      " [255 255]]\n"
     ]
    }
   ],
   "source": [
    "# kaçıncı indexten : kaçıncı indexe kadar(dahil değil)\n",
    "print(img_gray[2,4])\n",
    "print(img_gray[0:2])\n",
    "print(img_gray[0:2,2:4])"
   ]
  },
  {
   "cell_type": "code",
   "execution_count": 48,
   "metadata": {},
   "outputs": [
    {
     "name": "stdout",
     "output_type": "stream",
     "text": [
      "[187 158 104 121 143]\n",
      "[198 125 255 255 147]\n",
      "[209 134 255  97 182]\n"
     ]
    }
   ],
   "source": [
    "#numpy iterationu. 2 boyutlu bir dizi olduğundan altındaki boyutu yazdırıyor.\n",
    "print(img_gray)\n",
    "for item in img_gray:\n",
    "    print(item)"
   ]
  },
  {
   "cell_type": "code",
   "execution_count": 54,
   "metadata": {},
   "outputs": [
    {
     "name": "stdout",
     "output_type": "stream",
     "text": [
      "[[187 158 104 121 143]\n",
      " [198 125 255 255 147]\n",
      " [209 134 255  97 182]]\n",
      "[187, 158, 104, 121, 143, 198, 125, 255, 255, 147, 209, 134, 255, 97, 182]\n",
      "187\n",
      "158\n",
      "104\n",
      "121\n",
      "143\n",
      "198\n",
      "125\n",
      "255\n",
      "255\n",
      "147\n",
      "209\n",
      "134\n",
      "255\n",
      "97\n",
      "182\n"
     ]
    }
   ],
   "source": [
    "# 2 boyutlu bir diziyi tek boyutlu vektörü gibi gösterdik.\n",
    "print(img_gray)\n",
    "print(list(img_gray.flat))\n",
    "for item in img_gray.flat:\n",
    "    print(item)"
   ]
  },
  {
   "cell_type": "code",
   "execution_count": 60,
   "metadata": {},
   "outputs": [
    {
     "data": {
      "text/plain": [
       "array([[187, 158, 104, 121, 143, 187, 158, 104, 121, 143],\n",
       "       [198, 125, 255, 255, 147, 198, 125, 255, 255, 147],\n",
       "       [209, 134, 255,  97, 182, 209, 134, 255,  97, 182]], dtype=uint8)"
      ]
     },
     "execution_count": 60,
     "metadata": {},
     "output_type": "execute_result"
    }
   ],
   "source": [
    "# matrise eklemeler nasıl yapılır?\n",
    "# horizontal yani yatay ekleme\n",
    "ims=np.hstack( (img_gray,img_gray) )\n",
    "ims"
   ]
  },
  {
   "cell_type": "code",
   "execution_count": 62,
   "metadata": {},
   "outputs": [
    {
     "data": {
      "text/plain": [
       "array([[187, 158, 104, 121, 143],\n",
       "       [198, 125, 255, 255, 147],\n",
       "       [209, 134, 255,  97, 182],\n",
       "       [187, 158, 104, 121, 143],\n",
       "       [198, 125, 255, 255, 147],\n",
       "       [209, 134, 255,  97, 182]], dtype=uint8)"
      ]
     },
     "execution_count": 62,
     "metadata": {},
     "output_type": "execute_result"
    }
   ],
   "source": [
    "# matrise eklemeler nasıl yapılır?\n",
    "# vertical yani dikey ekleme\n",
    "ims=np.vstack( (img_gray,img_gray) )\n",
    "ims"
   ]
  },
  {
   "cell_type": "code",
   "execution_count": 68,
   "metadata": {},
   "outputs": [
    {
     "name": "stdout",
     "output_type": "stream",
     "text": [
      "<class 'list'>\n",
      "[array([[187, 158, 104, 121, 143],\n",
      "       [198, 125, 255, 255, 147]], dtype=uint8), array([[209, 134, 255,  97, 182],\n",
      "       [187, 158, 104, 121, 143]], dtype=uint8), array([[198, 125, 255, 255, 147],\n",
      "       [209, 134, 255,  97, 182]], dtype=uint8)]\n",
      "[[187 158 104 121 143]\n",
      " [198 125 255 255 147]]\n"
     ]
    }
   ],
   "source": [
    "#lst=np.hsplit(ims,3) # 5 sütun var ve 3e bölmeye çalışıyoruz. tam bölünmez. HATA!\n",
    "lst=np.vsplit(ims,3)\n",
    "print(type(lst))  #Dikkaaat! bu bir liste tipi\n",
    "print(lst)\n",
    "print(lst[0])"
   ]
  }
 ],
 "metadata": {
  "kernelspec": {
   "display_name": "Python 3",
   "language": "python",
   "name": "python3"
  },
  "language_info": {
   "codemirror_mode": {
    "name": "ipython",
    "version": 3
   },
   "file_extension": ".py",
   "mimetype": "text/x-python",
   "name": "python",
   "nbconvert_exporter": "python",
   "pygments_lexer": "ipython3",
   "version": "3.6.5"
  }
 },
 "nbformat": 4,
 "nbformat_minor": 2
}
